{
 "cells": [
  {
   "cell_type": "code",
   "execution_count": 1,
   "metadata": {},
   "outputs": [
    {
     "ename": "ModuleNotFoundError",
     "evalue": "No module named 'lollms_client'",
     "output_type": "error",
     "traceback": [
      "\u001b[31m---------------------------------------------------------------------------\u001b[39m",
      "\u001b[31mModuleNotFoundError\u001b[39m                       Traceback (most recent call last)",
      "\u001b[36mCell\u001b[39m\u001b[36m \u001b[39m\u001b[32mIn[1]\u001b[39m\u001b[32m, line 2\u001b[39m\n\u001b[32m      1\u001b[39m \u001b[38;5;66;03m# Import the library\u001b[39;00m\n\u001b[32m----> \u001b[39m\u001b[32m2\u001b[39m \u001b[38;5;28;01mfrom\u001b[39;00m\u001b[38;5;250m \u001b[39m\u001b[34;01mlollms_client\u001b[39;00m\u001b[38;5;250m \u001b[39m\u001b[38;5;28;01mimport\u001b[39;00m LollmsClient\n\u001b[32m      4\u001b[39m \u001b[38;5;66;03m# Initialize the LollmsClient instance\u001b[39;00m\n\u001b[32m      5\u001b[39m lc = LollmsClient(llm_binding_name=\u001b[33m\"\u001b[39m\u001b[33mlollms\u001b[39m\u001b[33m\"\u001b[39m, llm_binding_config={\n\u001b[32m      6\u001b[39m         \u001b[33m\"\u001b[39m\u001b[33mmodel_name\u001b[39m\u001b[33m\"\u001b[39m: \u001b[33m\"\u001b[39m\u001b[33mollama/gemma3:12b\u001b[39m\u001b[33m\"\u001b[39m,\n\u001b[32m      7\u001b[39m         \u001b[33m\"\u001b[39m\u001b[33mservice_key\u001b[39m\u001b[33m\"\u001b[39m: \u001b[33m\"\u001b[39m\u001b[33mlollms_m1fOU6eS_HXTc09wA9CtCl-yyJBGpaqcvPtOvMqANKPZL9_PEn18\u001b[39m\u001b[33m\"\u001b[39m,\u001b[38;5;66;03m# change this to your actual service key\u001b[39;00m\n\u001b[32m      8\u001b[39m })\n",
      "\u001b[31mModuleNotFoundError\u001b[39m: No module named 'lollms_client'"
     ]
    }
   ],
   "source": [
    "# Import the library\n",
    "from lollms_client import LollmsClient\n",
    "\n",
    "# Initialize the LollmsClient instance\n",
    "lc = LollmsClient(llm_binding_name=\"lollms\", llm_binding_config={\n",
    "        \"model_name\": \"ollama/gemma3:12b\",\n",
    "        \"service_key\": \"lollms_m1fOU6eS_HXTc09wA9CtCl-yyJBGpaqcvPtOvMqANKPZL9_PEn18\",# change this to your actual service key\n",
    "})"
   ]
  },
  {
   "cell_type": "code",
   "execution_count": 5,
   "metadata": {},
   "outputs": [
    {
     "name": "stdout",
     "output_type": "stream",
     "text": [
      ", in the land of the free and the home of the brave, there was a young man named Jack. Jack was a curious and adventurous soul, always eager to explore new places and try new things. He had grown up in a small town in the Midwest, where everyone knew each other's names and the local diner served as the gathering place for the community.\\n\\nOne day, Jack decided that he wanted to see more of the world beyond his hometown. He packed his bags, said goodbye to his family and friends, and set off on a journey to discover what lay beyond the horizon.\\n\\nAs he traveled, Jack encountered all sorts of fascinating people and places. He met a wise old sage who taught him about the importance of living in harmony with nature. He visited a bustling city where he marveled at the towering skyscrapers and sampled exotic foods from all over the world. He even spent a few days on a remote island where he learned how to surf and snorkel.\\n\\nBut despite all the amazing experiences he had, Jack couldn't shake the feeling that something was missing. He felt like he was just scratching the surface of what life had to offer, like he was just getting a glimpse of the world through a narrow window.\\n\\nOne day, as he was sitting on a beach watching the sunset, Jack had an epiphany. He realized that he had been so focused on seeing new sights and trying new things that he had forgotten about the beauty that lay right in front of him. He looked around at the people he had met on his journey, at the landscapes he had seen, and at the experiences he had had, and he felt a sense of gratitude and wonder.\\n\\nIn that moment, Jack understood that the journey itself was the destination. He didn't need to keep searching for something more; he just needed to appreciate what he already had.\\n\\nFrom that day on, Jack approached life with a newfound sense of appreciation and gratitude. He continued to travel and explore, but he did so with a sense of mindfulness and presence. He knew that every moment was precious, and he made sure to savor every experience.\\n\\nAnd so, Jack's journey became one of self-discovery and growth, as he learned to appreciate the beauty that lay right in front of him. He realized that the world was full of wonder and magic, but that it was also full of ordinary moments that were just as precious.\\n\\nIn the end, Jack's journey taught him that the most important thing he could do was to be present in the moment, to appreciate the beauty that lay right in front of him, and to find joy in the simple things. And with that understanding, he lived a life that was full of wonder, gratitude, and joy. The end.assistant\\n\\nWhat a wonderful story!!!!!!!!!!!!!!!!!!!!!!!!!!!!!!!!!!!!!!!!!!!!!!!!!!!!!!!!!!!!!!!!!!!!!!!!!!!!!!!!!!!!!!!!!!!!!!!!!!!!!!!!!!!!!!!!!!!!!!!!!!!!!!!!!!!!!!!!!!!!!!!!!!!!!!!!!!!!!!!!!!!!!!!!!!!!!!!!!!!!!!!!!!!!!!!!!!!!!!!!!!!!!!!!!!!!!!!!!!!!!!!!!!!!!!!!!!!!!!!!!!!!!!!!!!!!!!!!!!!!!!!!!!!!!!!!!!!!!!!!!!!!!!!!!!!!!!!!!!!!!!!!!!!!!!!!!!!!!!!!!!!!!!!!!!!!!!!!!!!!!!!!!!!!!!!!!!!!!!!!!!!!!!!!!!!!!!!!!!!!!!!!!!!!!!!!!!!!!!!!!!!!!!!!!!!!!!!!!!!!!!!!!!!!!!!!!!!!!!!!!!!!!!!!!!!!!!!!!!!\n"
     ]
    }
   ],
   "source": [
    "# Generate Text\n",
    "response = lc.generate_text(prompt=\"Once upon a time\", stream=False, temperature=0.5)\n",
    "print(response)"
   ]
  },
  {
   "cell_type": "code",
   "execution_count": 6,
   "metadata": {},
   "outputs": [
    {
     "name": "stdout",
     "output_type": "stream",
     "text": [
      ", there was a young girl named Alice. She lived in a small village where everyone knew each other and life was simple. Alice’s parents were farmers who worked hard every day to provide for their family.One day, while playing near the river that flowed through the village, Alice found an old wooden box. It was covered in dust and had a strange symbol carved into it – an eye surrounded by a circle. Curiosity got the better of her, so she opened it.To her surprise, out popped a genie He introduced himself as Genie Maximus and explained that he had been trapped inside the box for centuries. He offered Alice three wishes in exchange for setting him free.Alice couldn’t believe her luck! She wished for her parents to become rich, for her best friend to fall in love with her, and for her to become the most beautiful girl in the world. Genie Maximus granted all three wishes with a wave of his hand.Suddenly, Alice’s life changed drastically. Her parents became wealthy beyond imagination, her best friend declared his love for her, and she transformed into the most beautiful woman anyone had ever seen. The entire village admired her beauty and envied her fortune.However, as time went by, Alice realized that her newfound happiness wasn’t as fulfilling as she thought it would be. Her friends turned away from her because they felt inferior, her parents became distant due to their newfound wealth, and her best friend left the village after not receiving her love reciprocated.Feeling lonely and unfulfilled, Alice decided to visit Genie Maximus again. This time, she wished for everything to go back to how it was before – for her old life to return. Genie Maximus granted her wish, but warned her that once she made this choice, she couldn’t change her mind again.Alice agreed and woke up in her old room, with her old clothes on, and her old life back. She realized then that true happiness doesn’t come from wealth or beauty, but from within oneself and the love of friends and family. And so, she learned an important lesson about the true meaning of happiness."
     ]
    }
   ],
   "source": [
    "def cb(chunk, type):\n",
    "    print(chunk, end=\"\", flush=True)\n",
    "response = lc.generate_text(prompt=\"Once upon a time\", stream=True, temperature=0.5, streaming_callback=cb)"
   ]
  },
  {
   "cell_type": "code",
   "execution_count": 5,
   "metadata": {},
   "outputs": [
    {
     "name": "stdout",
     "output_type": "stream",
     "text": [
      "The capital of France is Paris.\n"
     ]
    }
   ],
   "source": [
    "# Generate Completion\n",
    "response = lc.generate_completion(prompt=\"What is the capital of France\", stream=False, temperature=0.5)\n",
    "print(response)"
   ]
  },
  {
   "cell_type": "code",
   "execution_count": null,
   "metadata": {},
   "outputs": [],
   "source": [
    "# List Mounted Personalities\n",
    "response = lc.listMountedPersonalities()\n",
    "print(response)"
   ]
  },
  {
   "cell_type": "code",
   "execution_count": null,
   "metadata": {},
   "outputs": [],
   "source": [
    "# List Models\n",
    "response = lc.listModels()\n",
    "print(response)"
   ]
  }
 ],
 "metadata": {
  "kernelspec": {
   "display_name": "venv",
   "language": "python",
   "name": "python3"
  },
  "language_info": {
   "codemirror_mode": {
    "name": "ipython",
    "version": 3
   },
   "file_extension": ".py",
   "mimetype": "text/x-python",
   "name": "python",
   "nbconvert_exporter": "python",
   "pygments_lexer": "ipython3",
   "version": "3.11.9"
  }
 },
 "nbformat": 4,
 "nbformat_minor": 2
}
